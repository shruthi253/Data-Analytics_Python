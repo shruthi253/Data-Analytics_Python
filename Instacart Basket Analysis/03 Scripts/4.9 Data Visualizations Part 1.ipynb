{
 "cells": [
  {
   "cell_type": "code",
   "execution_count": 1,
   "id": "f100cdae",
   "metadata": {},
   "outputs": [],
   "source": [
    "# importing libraries\n",
    "import pandas as pd\n",
    "import numpy as np\n",
    "import os\n",
    "import matplotlib.pyplot as plt\n",
    "import seaborn as sns\n",
    "import scipy"
   ]
  },
  {
   "cell_type": "code",
   "execution_count": 2,
   "id": "25fe9dcf",
   "metadata": {},
   "outputs": [],
   "source": [
    "# setting path variable as root\n",
    "path = r'C:\\Users\\shrut\\Downloads\\Task_data_analytics\\Instacart Basket Analysis' "
   ]
  },
  {
   "cell_type": "code",
   "execution_count": 37,
   "id": "8892e806",
   "metadata": {},
   "outputs": [],
   "source": [
    "# defining dataframe of customers.csv\n",
    "df_cust = pd.read_csv(os.path.join(path, '02 Data', 'Original Data', 'customers.csv')) "
   ]
  },
  {
   "cell_type": "code",
   "execution_count": 38,
   "id": "b5ec16eb",
   "metadata": {},
   "outputs": [
    {
     "data": {
      "text/html": [
       "<div>\n",
       "<style scoped>\n",
       "    .dataframe tbody tr th:only-of-type {\n",
       "        vertical-align: middle;\n",
       "    }\n",
       "\n",
       "    .dataframe tbody tr th {\n",
       "        vertical-align: top;\n",
       "    }\n",
       "\n",
       "    .dataframe thead th {\n",
       "        text-align: right;\n",
       "    }\n",
       "</style>\n",
       "<table border=\"1\" class=\"dataframe\">\n",
       "  <thead>\n",
       "    <tr style=\"text-align: right;\">\n",
       "      <th></th>\n",
       "      <th>user_id</th>\n",
       "      <th>First Name</th>\n",
       "      <th>Surnam</th>\n",
       "      <th>Gender</th>\n",
       "      <th>STATE</th>\n",
       "      <th>Age</th>\n",
       "      <th>date_joined</th>\n",
       "      <th>n_dependants</th>\n",
       "      <th>fam_status</th>\n",
       "      <th>income</th>\n",
       "    </tr>\n",
       "  </thead>\n",
       "  <tbody>\n",
       "    <tr>\n",
       "      <th>0</th>\n",
       "      <td>26711</td>\n",
       "      <td>Deborah</td>\n",
       "      <td>Esquivel</td>\n",
       "      <td>Female</td>\n",
       "      <td>Missouri</td>\n",
       "      <td>48</td>\n",
       "      <td>1/1/2017</td>\n",
       "      <td>3</td>\n",
       "      <td>married</td>\n",
       "      <td>165665</td>\n",
       "    </tr>\n",
       "    <tr>\n",
       "      <th>1</th>\n",
       "      <td>33890</td>\n",
       "      <td>Patricia</td>\n",
       "      <td>Hart</td>\n",
       "      <td>Female</td>\n",
       "      <td>New Mexico</td>\n",
       "      <td>36</td>\n",
       "      <td>1/1/2017</td>\n",
       "      <td>0</td>\n",
       "      <td>single</td>\n",
       "      <td>59285</td>\n",
       "    </tr>\n",
       "    <tr>\n",
       "      <th>2</th>\n",
       "      <td>65803</td>\n",
       "      <td>Kenneth</td>\n",
       "      <td>Farley</td>\n",
       "      <td>Male</td>\n",
       "      <td>Idaho</td>\n",
       "      <td>35</td>\n",
       "      <td>1/1/2017</td>\n",
       "      <td>2</td>\n",
       "      <td>married</td>\n",
       "      <td>99568</td>\n",
       "    </tr>\n",
       "    <tr>\n",
       "      <th>3</th>\n",
       "      <td>125935</td>\n",
       "      <td>Michelle</td>\n",
       "      <td>Hicks</td>\n",
       "      <td>Female</td>\n",
       "      <td>Iowa</td>\n",
       "      <td>40</td>\n",
       "      <td>1/1/2017</td>\n",
       "      <td>0</td>\n",
       "      <td>single</td>\n",
       "      <td>42049</td>\n",
       "    </tr>\n",
       "    <tr>\n",
       "      <th>4</th>\n",
       "      <td>130797</td>\n",
       "      <td>Ann</td>\n",
       "      <td>Gilmore</td>\n",
       "      <td>Female</td>\n",
       "      <td>Maryland</td>\n",
       "      <td>26</td>\n",
       "      <td>1/1/2017</td>\n",
       "      <td>1</td>\n",
       "      <td>married</td>\n",
       "      <td>40374</td>\n",
       "    </tr>\n",
       "  </tbody>\n",
       "</table>\n",
       "</div>"
      ],
      "text/plain": [
       "   user_id First Name    Surnam  Gender       STATE  Age date_joined  \\\n",
       "0    26711    Deborah  Esquivel  Female    Missouri   48    1/1/2017   \n",
       "1    33890   Patricia      Hart  Female  New Mexico   36    1/1/2017   \n",
       "2    65803    Kenneth    Farley    Male       Idaho   35    1/1/2017   \n",
       "3   125935   Michelle     Hicks  Female        Iowa   40    1/1/2017   \n",
       "4   130797        Ann   Gilmore  Female    Maryland   26    1/1/2017   \n",
       "\n",
       "   n_dependants fam_status  income  \n",
       "0             3    married  165665  \n",
       "1             0     single   59285  \n",
       "2             2    married   99568  \n",
       "3             0     single   42049  \n",
       "4             1    married   40374  "
      ]
     },
     "execution_count": 38,
     "metadata": {},
     "output_type": "execute_result"
    }
   ],
   "source": [
    "df_cust.head()"
   ]
  },
  {
   "cell_type": "code",
   "execution_count": 39,
   "id": "f1782e41",
   "metadata": {
    "scrolled": true
   },
   "outputs": [
    {
     "data": {
      "text/html": [
       "<div>\n",
       "<style scoped>\n",
       "    .dataframe tbody tr th:only-of-type {\n",
       "        vertical-align: middle;\n",
       "    }\n",
       "\n",
       "    .dataframe tbody tr th {\n",
       "        vertical-align: top;\n",
       "    }\n",
       "\n",
       "    .dataframe thead th {\n",
       "        text-align: right;\n",
       "    }\n",
       "</style>\n",
       "<table border=\"1\" class=\"dataframe\">\n",
       "  <thead>\n",
       "    <tr style=\"text-align: right;\">\n",
       "      <th></th>\n",
       "      <th>user_id</th>\n",
       "      <th>Age</th>\n",
       "      <th>n_dependants</th>\n",
       "      <th>income</th>\n",
       "    </tr>\n",
       "  </thead>\n",
       "  <tbody>\n",
       "    <tr>\n",
       "      <th>count</th>\n",
       "      <td>206209.000000</td>\n",
       "      <td>206209.000000</td>\n",
       "      <td>206209.000000</td>\n",
       "      <td>206209.000000</td>\n",
       "    </tr>\n",
       "    <tr>\n",
       "      <th>mean</th>\n",
       "      <td>103105.000000</td>\n",
       "      <td>49.501646</td>\n",
       "      <td>1.499823</td>\n",
       "      <td>94632.852548</td>\n",
       "    </tr>\n",
       "    <tr>\n",
       "      <th>std</th>\n",
       "      <td>59527.555167</td>\n",
       "      <td>18.480962</td>\n",
       "      <td>1.118433</td>\n",
       "      <td>42473.786988</td>\n",
       "    </tr>\n",
       "    <tr>\n",
       "      <th>min</th>\n",
       "      <td>1.000000</td>\n",
       "      <td>18.000000</td>\n",
       "      <td>0.000000</td>\n",
       "      <td>25903.000000</td>\n",
       "    </tr>\n",
       "    <tr>\n",
       "      <th>25%</th>\n",
       "      <td>51553.000000</td>\n",
       "      <td>33.000000</td>\n",
       "      <td>0.000000</td>\n",
       "      <td>59874.000000</td>\n",
       "    </tr>\n",
       "    <tr>\n",
       "      <th>50%</th>\n",
       "      <td>103105.000000</td>\n",
       "      <td>49.000000</td>\n",
       "      <td>1.000000</td>\n",
       "      <td>93547.000000</td>\n",
       "    </tr>\n",
       "    <tr>\n",
       "      <th>75%</th>\n",
       "      <td>154657.000000</td>\n",
       "      <td>66.000000</td>\n",
       "      <td>3.000000</td>\n",
       "      <td>124244.000000</td>\n",
       "    </tr>\n",
       "    <tr>\n",
       "      <th>max</th>\n",
       "      <td>206209.000000</td>\n",
       "      <td>81.000000</td>\n",
       "      <td>3.000000</td>\n",
       "      <td>593901.000000</td>\n",
       "    </tr>\n",
       "  </tbody>\n",
       "</table>\n",
       "</div>"
      ],
      "text/plain": [
       "             user_id            Age   n_dependants         income\n",
       "count  206209.000000  206209.000000  206209.000000  206209.000000\n",
       "mean   103105.000000      49.501646       1.499823   94632.852548\n",
       "std     59527.555167      18.480962       1.118433   42473.786988\n",
       "min         1.000000      18.000000       0.000000   25903.000000\n",
       "25%     51553.000000      33.000000       0.000000   59874.000000\n",
       "50%    103105.000000      49.000000       1.000000   93547.000000\n",
       "75%    154657.000000      66.000000       3.000000  124244.000000\n",
       "max    206209.000000      81.000000       3.000000  593901.000000"
      ]
     },
     "execution_count": 39,
     "metadata": {},
     "output_type": "execute_result"
    }
   ],
   "source": [
    "df_cust.describe()"
   ]
  },
  {
   "cell_type": "code",
   "execution_count": 40,
   "id": "93179164",
   "metadata": {},
   "outputs": [
    {
     "name": "stdout",
     "output_type": "stream",
     "text": [
      "<class 'pandas.core.frame.DataFrame'>\n",
      "RangeIndex: 206209 entries, 0 to 206208\n",
      "Data columns (total 10 columns):\n",
      " #   Column        Non-Null Count   Dtype \n",
      "---  ------        --------------   ----- \n",
      " 0   user_id       206209 non-null  int64 \n",
      " 1   First Name    194950 non-null  object\n",
      " 2   Surnam        206209 non-null  object\n",
      " 3   Gender        206209 non-null  object\n",
      " 4   STATE         206209 non-null  object\n",
      " 5   Age           206209 non-null  int64 \n",
      " 6   date_joined   206209 non-null  object\n",
      " 7   n_dependants  206209 non-null  int64 \n",
      " 8   fam_status    206209 non-null  object\n",
      " 9   income        206209 non-null  int64 \n",
      "dtypes: int64(4), object(6)\n",
      "memory usage: 15.7+ MB\n"
     ]
    }
   ],
   "source": [
    "df_cust.info()"
   ]
  },
  {
   "cell_type": "code",
   "execution_count": 41,
   "id": "906b7b1e",
   "metadata": {},
   "outputs": [],
   "source": [
    " # changing datatype\n",
    "df_cust['user_id'] = df_cust['user_id'].astype('int32')\n"
   ]
  },
  {
   "cell_type": "code",
   "execution_count": 42,
   "id": "3aa8f712",
   "metadata": {},
   "outputs": [],
   "source": [
    " # changing column names to standard form\n",
    "# changing the name of columns \n",
    "df_cust.rename(columns = {'Surnam' : 'surname'}, inplace = True)\n",
    "df_cust.rename(columns = {'First Name' : 'first_name'}, inplace = True)\n",
    "df_cust.rename(columns = {'STATE': 'state'}, inplace = True)\n",
    "df_cust.rename(columns = {'Gender' : 'gender'}, inplace = True)\n",
    "df_cust.rename(columns = {'Age' : 'age'}, inplace = True)\n",
    "df_cust.rename(columns = {'fam_status' : 'marital_status'}, inplace = True)\n",
    "df_cust.rename(columns = {'n_dependants' : 'num_of_dependants'}, inplace = True)"
   ]
  },
  {
   "cell_type": "code",
   "execution_count": 43,
   "id": "1fba3dc9",
   "metadata": {},
   "outputs": [
    {
     "name": "stdout",
     "output_type": "stream",
     "text": [
      "<class 'pandas.core.frame.DataFrame'>\n",
      "RangeIndex: 206209 entries, 0 to 206208\n",
      "Data columns (total 10 columns):\n",
      " #   Column             Non-Null Count   Dtype \n",
      "---  ------             --------------   ----- \n",
      " 0   user_id            206209 non-null  int32 \n",
      " 1   first_name         194950 non-null  object\n",
      " 2   surname            206209 non-null  object\n",
      " 3   gender             206209 non-null  object\n",
      " 4   state              206209 non-null  object\n",
      " 5   age                206209 non-null  int64 \n",
      " 6   date_joined        206209 non-null  object\n",
      " 7   num_of_dependants  206209 non-null  int64 \n",
      " 8   marital_status     206209 non-null  object\n",
      " 9   income             206209 non-null  int64 \n",
      "dtypes: int32(1), int64(3), object(6)\n",
      "memory usage: 14.9+ MB\n"
     ]
    }
   ],
   "source": [
    "df_cust.info()"
   ]
  },
  {
   "cell_type": "code",
   "execution_count": 44,
   "id": "2cf300f5",
   "metadata": {},
   "outputs": [
    {
     "data": {
      "text/plain": [
       "user_id                  0\n",
       "first_name           11259\n",
       "surname                  0\n",
       "gender                   0\n",
       "state                    0\n",
       "age                      0\n",
       "date_joined              0\n",
       "num_of_dependants        0\n",
       "marital_status           0\n",
       "income                   0\n",
       "dtype: int64"
      ]
     },
     "execution_count": 44,
     "metadata": {},
     "output_type": "execute_result"
    }
   ],
   "source": [
    "df_cust.isnull().sum()"
   ]
  },
  {
   "cell_type": "code",
   "execution_count": 46,
   "id": "2fff5373",
   "metadata": {},
   "outputs": [],
   "source": [
    "#addressing missing values is imputation\n",
    "df_cust['first_name'].fillna('Unknown', inplace = True)"
   ]
  },
  {
   "cell_type": "code",
   "execution_count": 47,
   "id": "4c4b8b90",
   "metadata": {},
   "outputs": [
    {
     "data": {
      "text/plain": [
       "(206209, 10)"
      ]
     },
     "execution_count": 47,
     "metadata": {},
     "output_type": "execute_result"
    }
   ],
   "source": [
    "df_cust.shape"
   ]
  },
  {
   "cell_type": "code",
   "execution_count": 48,
   "id": "34691580",
   "metadata": {},
   "outputs": [],
   "source": [
    "#duplicates\n",
    "df_dups = df_cust[df_cust.duplicated()] #no duplicates"
   ]
  },
  {
   "cell_type": "code",
   "execution_count": 49,
   "id": "70e9fa41",
   "metadata": {},
   "outputs": [],
   "source": [
    "# Check for mixed datatype in df_ords # output first_name and then changed and ran which retrieved no columns\n",
    "\n",
    "for col in df_cust.columns.tolist():\n",
    "  weird = (df_cust[[col]].map(type) != df_cust[[col]].iloc[0].apply(type)).any(axis = 1)\n",
    "  if len (df_cust[weird]) > 0:\n",
    "    print (col)"
   ]
  },
  {
   "cell_type": "code",
   "execution_count": 50,
   "id": "8187ac74",
   "metadata": {},
   "outputs": [],
   "source": [
    "df_cust['first_name'] = df_cust['first_name'].astype('str') # changed to uniform datatype"
   ]
  },
  {
   "cell_type": "code",
   "execution_count": 52,
   "id": "c17c721f",
   "metadata": {},
   "outputs": [
    {
     "name": "stdout",
     "output_type": "stream",
     "text": [
      "<class 'pandas.core.frame.DataFrame'>\n",
      "RangeIndex: 206209 entries, 0 to 206208\n",
      "Data columns (total 10 columns):\n",
      " #   Column             Non-Null Count   Dtype \n",
      "---  ------             --------------   ----- \n",
      " 0   user_id            206209 non-null  int32 \n",
      " 1   first_name         206209 non-null  object\n",
      " 2   surname            206209 non-null  object\n",
      " 3   gender             206209 non-null  object\n",
      " 4   state              206209 non-null  object\n",
      " 5   age                206209 non-null  int64 \n",
      " 6   date_joined        206209 non-null  object\n",
      " 7   num_of_dependants  206209 non-null  int64 \n",
      " 8   marital_status     206209 non-null  object\n",
      " 9   income             206209 non-null  int64 \n",
      "dtypes: int32(1), int64(3), object(6)\n",
      "memory usage: 14.9+ MB\n"
     ]
    }
   ],
   "source": [
    "df_cust.info()"
   ]
  },
  {
   "cell_type": "code",
   "execution_count": 54,
   "id": "d98e5b66",
   "metadata": {},
   "outputs": [],
   "source": [
    "# Change datatype to save memory\n",
    "df_cust['age'] = df_cust['age'].astype('int8')\n",
    "df_cust['num_of_dependants'] = df_cust['num_of_dependants'].astype('int8')"
   ]
  },
  {
   "cell_type": "code",
   "execution_count": 55,
   "id": "0b16f6fd",
   "metadata": {},
   "outputs": [
    {
     "name": "stdout",
     "output_type": "stream",
     "text": [
      "<class 'pandas.core.frame.DataFrame'>\n",
      "RangeIndex: 206209 entries, 0 to 206208\n",
      "Data columns (total 10 columns):\n",
      " #   Column             Non-Null Count   Dtype \n",
      "---  ------             --------------   ----- \n",
      " 0   user_id            206209 non-null  int32 \n",
      " 1   first_name         206209 non-null  object\n",
      " 2   surname            206209 non-null  object\n",
      " 3   gender             206209 non-null  object\n",
      " 4   state              206209 non-null  object\n",
      " 5   age                206209 non-null  int8  \n",
      " 6   date_joined        206209 non-null  object\n",
      " 7   num_of_dependants  206209 non-null  int8  \n",
      " 8   marital_status     206209 non-null  object\n",
      " 9   income             206209 non-null  int64 \n",
      "dtypes: int32(1), int64(1), int8(2), object(6)\n",
      "memory usage: 12.2+ MB\n"
     ]
    }
   ],
   "source": [
    "df_cust.info()"
   ]
  },
  {
   "cell_type": "code",
   "execution_count": 56,
   "id": "7de9143b",
   "metadata": {},
   "outputs": [
    {
     "data": {
      "text/plain": [
       "user_id              0\n",
       "first_name           0\n",
       "surname              0\n",
       "gender               0\n",
       "state                0\n",
       "age                  0\n",
       "date_joined          0\n",
       "num_of_dependants    0\n",
       "marital_status       0\n",
       "income               0\n",
       "dtype: int64"
      ]
     },
     "execution_count": 56,
     "metadata": {},
     "output_type": "execute_result"
    }
   ],
   "source": [
    "df_cust.isnull().sum()"
   ]
  },
  {
   "cell_type": "code",
   "execution_count": 24,
   "id": "06fa9d2a",
   "metadata": {},
   "outputs": [],
   "source": [
    "# importing the merged and updated pkl dataset\n",
    "ords_prods_merge = pd.read_pickle(os.path.join(path, '02 Data', 'Prepared Data', 'ords_prods_grouped.pkl')) "
   ]
  },
  {
   "cell_type": "code",
   "execution_count": 57,
   "id": "b4627849",
   "metadata": {},
   "outputs": [
    {
     "name": "stdout",
     "output_type": "stream",
     "text": [
      "<class 'pandas.core.frame.DataFrame'>\n",
      "RangeIndex: 32434212 entries, 0 to 32434211\n",
      "Data columns (total 23 columns):\n",
      " #   Column                     Dtype   \n",
      "---  ------                     -----   \n",
      " 0   order_id                   int32   \n",
      " 1   user_id                    int32   \n",
      " 2   order_number               int8    \n",
      " 3   orders_day_of_week         int8    \n",
      " 4   order_hour_of_day          int8    \n",
      " 5   days_since_previous_order  float16 \n",
      " 6   product_id                 int32   \n",
      " 7   add_to_cart_order          int32   \n",
      " 8   reordered                  int8    \n",
      " 9   product_name               object  \n",
      " 10  aisle_id                   int8    \n",
      " 11  department_id              int8    \n",
      " 12  prices                     float64 \n",
      " 13  _merge                     category\n",
      " 14  busiest_day                object  \n",
      " 15  busiest_days               object  \n",
      " 16  busiest_period_of_day      object  \n",
      " 17  max_order                  int8    \n",
      " 18  loyalty_flag               object  \n",
      " 19  mean_price                 float64 \n",
      " 20  spend_flag                 object  \n",
      " 21  median_days_prev_order     float16 \n",
      " 22  regularity_flag            object  \n",
      "dtypes: category(1), float16(2), float64(2), int32(4), int8(7), object(7)\n",
      "memory usage: 3.0+ GB\n"
     ]
    }
   ],
   "source": [
    "ords_prods_merge.info()"
   ]
  },
  {
   "cell_type": "code",
   "execution_count": 58,
   "id": "76ce3d91",
   "metadata": {},
   "outputs": [],
   "source": [
    "#merging ords_prods_merge with customer df on user_id\n",
    "ords_prods_customer_merge = ords_prods_merge.merge(df_cust, on = ['user_id'])"
   ]
  },
  {
   "cell_type": "code",
   "execution_count": 59,
   "id": "5adf48e3",
   "metadata": {},
   "outputs": [
    {
     "data": {
      "text/plain": [
       "(32434212, 32)"
      ]
     },
     "execution_count": 59,
     "metadata": {},
     "output_type": "execute_result"
    }
   ],
   "source": [
    "ords_prods_customer_merge.shape"
   ]
  },
  {
   "cell_type": "code",
   "execution_count": 60,
   "id": "8cb72d5a",
   "metadata": {},
   "outputs": [
    {
     "data": {
      "text/html": [
       "<div>\n",
       "<style scoped>\n",
       "    .dataframe tbody tr th:only-of-type {\n",
       "        vertical-align: middle;\n",
       "    }\n",
       "\n",
       "    .dataframe tbody tr th {\n",
       "        vertical-align: top;\n",
       "    }\n",
       "\n",
       "    .dataframe thead th {\n",
       "        text-align: right;\n",
       "    }\n",
       "</style>\n",
       "<table border=\"1\" class=\"dataframe\">\n",
       "  <thead>\n",
       "    <tr style=\"text-align: right;\">\n",
       "      <th></th>\n",
       "      <th>order_id</th>\n",
       "      <th>user_id</th>\n",
       "      <th>order_number</th>\n",
       "      <th>orders_day_of_week</th>\n",
       "      <th>order_hour_of_day</th>\n",
       "      <th>days_since_previous_order</th>\n",
       "      <th>product_id</th>\n",
       "      <th>add_to_cart_order</th>\n",
       "      <th>reordered</th>\n",
       "      <th>product_name</th>\n",
       "      <th>...</th>\n",
       "      <th>regularity_flag</th>\n",
       "      <th>first_name</th>\n",
       "      <th>surname</th>\n",
       "      <th>gender</th>\n",
       "      <th>state</th>\n",
       "      <th>age</th>\n",
       "      <th>date_joined</th>\n",
       "      <th>num_of_dependants</th>\n",
       "      <th>marital_status</th>\n",
       "      <th>income</th>\n",
       "    </tr>\n",
       "  </thead>\n",
       "  <tbody>\n",
       "    <tr>\n",
       "      <th>0</th>\n",
       "      <td>2539329</td>\n",
       "      <td>1</td>\n",
       "      <td>1</td>\n",
       "      <td>2</td>\n",
       "      <td>8</td>\n",
       "      <td>NaN</td>\n",
       "      <td>196</td>\n",
       "      <td>1</td>\n",
       "      <td>0</td>\n",
       "      <td>Soda</td>\n",
       "      <td>...</td>\n",
       "      <td>Non-frequent customer</td>\n",
       "      <td>Linda</td>\n",
       "      <td>Nguyen</td>\n",
       "      <td>Female</td>\n",
       "      <td>Alabama</td>\n",
       "      <td>31</td>\n",
       "      <td>2/17/2019</td>\n",
       "      <td>3</td>\n",
       "      <td>married</td>\n",
       "      <td>40423</td>\n",
       "    </tr>\n",
       "    <tr>\n",
       "      <th>1</th>\n",
       "      <td>2398795</td>\n",
       "      <td>1</td>\n",
       "      <td>2</td>\n",
       "      <td>3</td>\n",
       "      <td>7</td>\n",
       "      <td>15.0</td>\n",
       "      <td>196</td>\n",
       "      <td>1</td>\n",
       "      <td>1</td>\n",
       "      <td>Soda</td>\n",
       "      <td>...</td>\n",
       "      <td>Non-frequent customer</td>\n",
       "      <td>Linda</td>\n",
       "      <td>Nguyen</td>\n",
       "      <td>Female</td>\n",
       "      <td>Alabama</td>\n",
       "      <td>31</td>\n",
       "      <td>2/17/2019</td>\n",
       "      <td>3</td>\n",
       "      <td>married</td>\n",
       "      <td>40423</td>\n",
       "    </tr>\n",
       "    <tr>\n",
       "      <th>2</th>\n",
       "      <td>473747</td>\n",
       "      <td>1</td>\n",
       "      <td>3</td>\n",
       "      <td>3</td>\n",
       "      <td>12</td>\n",
       "      <td>21.0</td>\n",
       "      <td>196</td>\n",
       "      <td>1</td>\n",
       "      <td>1</td>\n",
       "      <td>Soda</td>\n",
       "      <td>...</td>\n",
       "      <td>Non-frequent customer</td>\n",
       "      <td>Linda</td>\n",
       "      <td>Nguyen</td>\n",
       "      <td>Female</td>\n",
       "      <td>Alabama</td>\n",
       "      <td>31</td>\n",
       "      <td>2/17/2019</td>\n",
       "      <td>3</td>\n",
       "      <td>married</td>\n",
       "      <td>40423</td>\n",
       "    </tr>\n",
       "    <tr>\n",
       "      <th>3</th>\n",
       "      <td>2254736</td>\n",
       "      <td>1</td>\n",
       "      <td>4</td>\n",
       "      <td>4</td>\n",
       "      <td>7</td>\n",
       "      <td>29.0</td>\n",
       "      <td>196</td>\n",
       "      <td>1</td>\n",
       "      <td>1</td>\n",
       "      <td>Soda</td>\n",
       "      <td>...</td>\n",
       "      <td>Non-frequent customer</td>\n",
       "      <td>Linda</td>\n",
       "      <td>Nguyen</td>\n",
       "      <td>Female</td>\n",
       "      <td>Alabama</td>\n",
       "      <td>31</td>\n",
       "      <td>2/17/2019</td>\n",
       "      <td>3</td>\n",
       "      <td>married</td>\n",
       "      <td>40423</td>\n",
       "    </tr>\n",
       "    <tr>\n",
       "      <th>4</th>\n",
       "      <td>431534</td>\n",
       "      <td>1</td>\n",
       "      <td>5</td>\n",
       "      <td>4</td>\n",
       "      <td>15</td>\n",
       "      <td>28.0</td>\n",
       "      <td>196</td>\n",
       "      <td>1</td>\n",
       "      <td>1</td>\n",
       "      <td>Soda</td>\n",
       "      <td>...</td>\n",
       "      <td>Non-frequent customer</td>\n",
       "      <td>Linda</td>\n",
       "      <td>Nguyen</td>\n",
       "      <td>Female</td>\n",
       "      <td>Alabama</td>\n",
       "      <td>31</td>\n",
       "      <td>2/17/2019</td>\n",
       "      <td>3</td>\n",
       "      <td>married</td>\n",
       "      <td>40423</td>\n",
       "    </tr>\n",
       "  </tbody>\n",
       "</table>\n",
       "<p>5 rows × 32 columns</p>\n",
       "</div>"
      ],
      "text/plain": [
       "   order_id  user_id  order_number  orders_day_of_week  order_hour_of_day  \\\n",
       "0   2539329        1             1                   2                  8   \n",
       "1   2398795        1             2                   3                  7   \n",
       "2    473747        1             3                   3                 12   \n",
       "3   2254736        1             4                   4                  7   \n",
       "4    431534        1             5                   4                 15   \n",
       "\n",
       "   days_since_previous_order  product_id  add_to_cart_order  reordered  \\\n",
       "0                        NaN         196                  1          0   \n",
       "1                       15.0         196                  1          1   \n",
       "2                       21.0         196                  1          1   \n",
       "3                       29.0         196                  1          1   \n",
       "4                       28.0         196                  1          1   \n",
       "\n",
       "  product_name  ...        regularity_flag  first_name  surname  gender  \\\n",
       "0         Soda  ...  Non-frequent customer       Linda   Nguyen  Female   \n",
       "1         Soda  ...  Non-frequent customer       Linda   Nguyen  Female   \n",
       "2         Soda  ...  Non-frequent customer       Linda   Nguyen  Female   \n",
       "3         Soda  ...  Non-frequent customer       Linda   Nguyen  Female   \n",
       "4         Soda  ...  Non-frequent customer       Linda   Nguyen  Female   \n",
       "\n",
       "     state age date_joined  num_of_dependants marital_status  income  \n",
       "0  Alabama  31   2/17/2019                  3        married   40423  \n",
       "1  Alabama  31   2/17/2019                  3        married   40423  \n",
       "2  Alabama  31   2/17/2019                  3        married   40423  \n",
       "3  Alabama  31   2/17/2019                  3        married   40423  \n",
       "4  Alabama  31   2/17/2019                  3        married   40423  \n",
       "\n",
       "[5 rows x 32 columns]"
      ]
     },
     "execution_count": 60,
     "metadata": {},
     "output_type": "execute_result"
    }
   ],
   "source": [
    "ords_prods_customer_merge.head()"
   ]
  },
  {
   "cell_type": "code",
   "execution_count": 61,
   "id": "501049aa",
   "metadata": {},
   "outputs": [],
   "source": [
    "# export ords_prods_customer_merge as a pickle file \n",
    "ords_prods_customer_merge.to_pickle(os.path.join(path, '02 Data', 'Prepared Data', 'orders_products_customer_merge.pkl'))"
   ]
  },
  {
   "cell_type": "code",
   "execution_count": 62,
   "id": "0570f3b6",
   "metadata": {},
   "outputs": [
    {
     "name": "stdout",
     "output_type": "stream",
     "text": [
      "<class 'pandas.core.frame.DataFrame'>\n",
      "RangeIndex: 32434212 entries, 0 to 32434211\n",
      "Data columns (total 32 columns):\n",
      " #   Column                     Dtype   \n",
      "---  ------                     -----   \n",
      " 0   order_id                   int32   \n",
      " 1   user_id                    int32   \n",
      " 2   order_number               int8    \n",
      " 3   orders_day_of_week         int8    \n",
      " 4   order_hour_of_day          int8    \n",
      " 5   days_since_previous_order  float16 \n",
      " 6   product_id                 int32   \n",
      " 7   add_to_cart_order          int32   \n",
      " 8   reordered                  int8    \n",
      " 9   product_name               object  \n",
      " 10  aisle_id                   int8    \n",
      " 11  department_id              int8    \n",
      " 12  prices                     float64 \n",
      " 13  _merge                     category\n",
      " 14  busiest_day                object  \n",
      " 15  busiest_days               object  \n",
      " 16  busiest_period_of_day      object  \n",
      " 17  max_order                  int8    \n",
      " 18  loyalty_flag               object  \n",
      " 19  mean_price                 float64 \n",
      " 20  spend_flag                 object  \n",
      " 21  median_days_prev_order     float16 \n",
      " 22  regularity_flag            object  \n",
      " 23  first_name                 object  \n",
      " 24  surname                    object  \n",
      " 25  gender                     object  \n",
      " 26  state                      object  \n",
      " 27  age                        int8    \n",
      " 28  date_joined                object  \n",
      " 29  num_of_dependants          int8    \n",
      " 30  marital_status             object  \n",
      " 31  income                     int64   \n",
      "dtypes: category(1), float16(2), float64(2), int32(4), int64(1), int8(9), object(13)\n",
      "memory usage: 4.8+ GB\n"
     ]
    }
   ],
   "source": [
    "ords_prods_customer_merge.info()"
   ]
  },
  {
   "cell_type": "code",
   "execution_count": null,
   "id": "763a995d",
   "metadata": {},
   "outputs": [],
   "source": []
  }
 ],
 "metadata": {
  "kernelspec": {
   "display_name": "Python 3 (ipykernel)",
   "language": "python",
   "name": "python3"
  },
  "language_info": {
   "codemirror_mode": {
    "name": "ipython",
    "version": 3
   },
   "file_extension": ".py",
   "mimetype": "text/x-python",
   "name": "python",
   "nbconvert_exporter": "python",
   "pygments_lexer": "ipython3",
   "version": "3.11.5"
  }
 },
 "nbformat": 4,
 "nbformat_minor": 5
}

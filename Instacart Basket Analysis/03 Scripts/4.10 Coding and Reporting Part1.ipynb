{
 "cells": [
  {
   "cell_type": "markdown",
   "id": "5bdc4ede",
   "metadata": {},
   "source": [
    "Table of Contents:\n",
    "1. Importing Libraries\n",
    "2. Setting path variable and Loading Data\n",
    "3. Identify PII(Personally Identifiable Info\n",
    "4. Adding new column Region from column state \n",
    "5. create crosstab between region and spend_flag\n",
    "6. create activity flag for customers based on maxorders < and > 5\n",
    "7. Exporting Data"
   ]
  },
  {
   "cell_type": "markdown",
   "id": "77f742aa",
   "metadata": {},
   "source": [
    "1. Importing Libraries"
   ]
  },
  {
   "cell_type": "code",
   "execution_count": 2,
   "id": "977253dc",
   "metadata": {},
   "outputs": [],
   "source": [
    "# importing libraries\n",
    "import pandas as pd\n",
    "import numpy as np\n",
    "import os\n",
    "import matplotlib.pyplot as plt\n",
    "import seaborn as sns\n",
    "import scipy"
   ]
  },
  {
   "cell_type": "markdown",
   "id": "b33557b8",
   "metadata": {},
   "source": [
    "2. Setting path variable and Loading Data"
   ]
  },
  {
   "cell_type": "code",
   "execution_count": 2,
   "id": "65b14209",
   "metadata": {},
   "outputs": [],
   "source": [
    "# setting path variable as root\n",
    "path = r'C:\\Users\\shrut\\Downloads\\Task_data_analytics\\Instacart Basket Analysis' "
   ]
  },
  {
   "cell_type": "code",
   "execution_count": 3,
   "id": "2ef47955",
   "metadata": {},
   "outputs": [],
   "source": [
    "# load data\n",
    "ord_prod_cust = pd.read_pickle(os.path.join(path, '02 Data', 'Prepared Data', 'orders_products_customer_merge.pkl')) "
   ]
  },
  {
   "cell_type": "markdown",
   "id": "09a10444",
   "metadata": {},
   "source": [
    "3. Identify PII(Personally Identifiable Info : "
   ]
  },
  {
   "cell_type": "code",
   "execution_count": 5,
   "id": "70c2794a",
   "metadata": {},
   "outputs": [],
   "source": [
    "# Drop first_name and surname as it is not required in analysis\n",
    "ord_prod_cust.drop(columns = {'first_name', 'surname'}, inplace = True)"
   ]
  },
  {
   "cell_type": "code",
   "execution_count": 8,
   "id": "c433c8f6",
   "metadata": {},
   "outputs": [],
   "source": [
    "ord_prod_cust.drop(columns = {'_merge'}, inplace = True)"
   ]
  },
  {
   "cell_type": "code",
   "execution_count": 11,
   "id": "61ec1da6",
   "metadata": {},
   "outputs": [
    {
     "data": {
      "text/html": [
       "<div>\n",
       "<style scoped>\n",
       "    .dataframe tbody tr th:only-of-type {\n",
       "        vertical-align: middle;\n",
       "    }\n",
       "\n",
       "    .dataframe tbody tr th {\n",
       "        vertical-align: top;\n",
       "    }\n",
       "\n",
       "    .dataframe thead th {\n",
       "        text-align: right;\n",
       "    }\n",
       "</style>\n",
       "<table border=\"1\" class=\"dataframe\">\n",
       "  <thead>\n",
       "    <tr style=\"text-align: right;\">\n",
       "      <th></th>\n",
       "      <th>order_id</th>\n",
       "      <th>user_id</th>\n",
       "      <th>order_number</th>\n",
       "      <th>orders_day_of_week</th>\n",
       "      <th>order_hour_of_day</th>\n",
       "      <th>days_since_previous_order</th>\n",
       "      <th>product_id</th>\n",
       "      <th>add_to_cart_order</th>\n",
       "      <th>reordered</th>\n",
       "      <th>product_name</th>\n",
       "      <th>...</th>\n",
       "      <th>spend_flag</th>\n",
       "      <th>median_days_prev_order</th>\n",
       "      <th>regularity_flag</th>\n",
       "      <th>gender</th>\n",
       "      <th>state</th>\n",
       "      <th>age</th>\n",
       "      <th>date_joined</th>\n",
       "      <th>num_of_dependants</th>\n",
       "      <th>marital_status</th>\n",
       "      <th>income</th>\n",
       "    </tr>\n",
       "  </thead>\n",
       "  <tbody>\n",
       "    <tr>\n",
       "      <th>0</th>\n",
       "      <td>2539329</td>\n",
       "      <td>1</td>\n",
       "      <td>1</td>\n",
       "      <td>2</td>\n",
       "      <td>8</td>\n",
       "      <td>NaN</td>\n",
       "      <td>196</td>\n",
       "      <td>1</td>\n",
       "      <td>0</td>\n",
       "      <td>Soda</td>\n",
       "      <td>...</td>\n",
       "      <td>Low Spender</td>\n",
       "      <td>20.5</td>\n",
       "      <td>Non-frequent customer</td>\n",
       "      <td>Female</td>\n",
       "      <td>Alabama</td>\n",
       "      <td>31</td>\n",
       "      <td>2/17/2019</td>\n",
       "      <td>3</td>\n",
       "      <td>married</td>\n",
       "      <td>40423</td>\n",
       "    </tr>\n",
       "    <tr>\n",
       "      <th>1</th>\n",
       "      <td>2398795</td>\n",
       "      <td>1</td>\n",
       "      <td>2</td>\n",
       "      <td>3</td>\n",
       "      <td>7</td>\n",
       "      <td>15.0</td>\n",
       "      <td>196</td>\n",
       "      <td>1</td>\n",
       "      <td>1</td>\n",
       "      <td>Soda</td>\n",
       "      <td>...</td>\n",
       "      <td>Low Spender</td>\n",
       "      <td>20.5</td>\n",
       "      <td>Non-frequent customer</td>\n",
       "      <td>Female</td>\n",
       "      <td>Alabama</td>\n",
       "      <td>31</td>\n",
       "      <td>2/17/2019</td>\n",
       "      <td>3</td>\n",
       "      <td>married</td>\n",
       "      <td>40423</td>\n",
       "    </tr>\n",
       "    <tr>\n",
       "      <th>2</th>\n",
       "      <td>473747</td>\n",
       "      <td>1</td>\n",
       "      <td>3</td>\n",
       "      <td>3</td>\n",
       "      <td>12</td>\n",
       "      <td>21.0</td>\n",
       "      <td>196</td>\n",
       "      <td>1</td>\n",
       "      <td>1</td>\n",
       "      <td>Soda</td>\n",
       "      <td>...</td>\n",
       "      <td>Low Spender</td>\n",
       "      <td>20.5</td>\n",
       "      <td>Non-frequent customer</td>\n",
       "      <td>Female</td>\n",
       "      <td>Alabama</td>\n",
       "      <td>31</td>\n",
       "      <td>2/17/2019</td>\n",
       "      <td>3</td>\n",
       "      <td>married</td>\n",
       "      <td>40423</td>\n",
       "    </tr>\n",
       "    <tr>\n",
       "      <th>3</th>\n",
       "      <td>2254736</td>\n",
       "      <td>1</td>\n",
       "      <td>4</td>\n",
       "      <td>4</td>\n",
       "      <td>7</td>\n",
       "      <td>29.0</td>\n",
       "      <td>196</td>\n",
       "      <td>1</td>\n",
       "      <td>1</td>\n",
       "      <td>Soda</td>\n",
       "      <td>...</td>\n",
       "      <td>Low Spender</td>\n",
       "      <td>20.5</td>\n",
       "      <td>Non-frequent customer</td>\n",
       "      <td>Female</td>\n",
       "      <td>Alabama</td>\n",
       "      <td>31</td>\n",
       "      <td>2/17/2019</td>\n",
       "      <td>3</td>\n",
       "      <td>married</td>\n",
       "      <td>40423</td>\n",
       "    </tr>\n",
       "    <tr>\n",
       "      <th>4</th>\n",
       "      <td>431534</td>\n",
       "      <td>1</td>\n",
       "      <td>5</td>\n",
       "      <td>4</td>\n",
       "      <td>15</td>\n",
       "      <td>28.0</td>\n",
       "      <td>196</td>\n",
       "      <td>1</td>\n",
       "      <td>1</td>\n",
       "      <td>Soda</td>\n",
       "      <td>...</td>\n",
       "      <td>Low Spender</td>\n",
       "      <td>20.5</td>\n",
       "      <td>Non-frequent customer</td>\n",
       "      <td>Female</td>\n",
       "      <td>Alabama</td>\n",
       "      <td>31</td>\n",
       "      <td>2/17/2019</td>\n",
       "      <td>3</td>\n",
       "      <td>married</td>\n",
       "      <td>40423</td>\n",
       "    </tr>\n",
       "  </tbody>\n",
       "</table>\n",
       "<p>5 rows × 29 columns</p>\n",
       "</div>"
      ],
      "text/plain": [
       "   order_id  user_id  order_number  orders_day_of_week  order_hour_of_day  \\\n",
       "0   2539329        1             1                   2                  8   \n",
       "1   2398795        1             2                   3                  7   \n",
       "2    473747        1             3                   3                 12   \n",
       "3   2254736        1             4                   4                  7   \n",
       "4    431534        1             5                   4                 15   \n",
       "\n",
       "   days_since_previous_order  product_id  add_to_cart_order  reordered  \\\n",
       "0                        NaN         196                  1          0   \n",
       "1                       15.0         196                  1          1   \n",
       "2                       21.0         196                  1          1   \n",
       "3                       29.0         196                  1          1   \n",
       "4                       28.0         196                  1          1   \n",
       "\n",
       "  product_name  ...   spend_flag  median_days_prev_order  \\\n",
       "0         Soda  ...  Low Spender                    20.5   \n",
       "1         Soda  ...  Low Spender                    20.5   \n",
       "2         Soda  ...  Low Spender                    20.5   \n",
       "3         Soda  ...  Low Spender                    20.5   \n",
       "4         Soda  ...  Low Spender                    20.5   \n",
       "\n",
       "         regularity_flag  gender    state age  date_joined num_of_dependants  \\\n",
       "0  Non-frequent customer  Female  Alabama  31    2/17/2019                 3   \n",
       "1  Non-frequent customer  Female  Alabama  31    2/17/2019                 3   \n",
       "2  Non-frequent customer  Female  Alabama  31    2/17/2019                 3   \n",
       "3  Non-frequent customer  Female  Alabama  31    2/17/2019                 3   \n",
       "4  Non-frequent customer  Female  Alabama  31    2/17/2019                 3   \n",
       "\n",
       "   marital_status income  \n",
       "0         married  40423  \n",
       "1         married  40423  \n",
       "2         married  40423  \n",
       "3         married  40423  \n",
       "4         married  40423  \n",
       "\n",
       "[5 rows x 29 columns]"
      ]
     },
     "execution_count": 11,
     "metadata": {},
     "output_type": "execute_result"
    }
   ],
   "source": [
    "ord_prod_cust.head()"
   ]
  },
  {
   "cell_type": "code",
   "execution_count": 10,
   "id": "e57e3127",
   "metadata": {},
   "outputs": [
    {
     "name": "stdout",
     "output_type": "stream",
     "text": [
      "<class 'pandas.core.frame.DataFrame'>\n",
      "RangeIndex: 32434212 entries, 0 to 32434211\n",
      "Data columns (total 29 columns):\n",
      " #   Column                     Dtype  \n",
      "---  ------                     -----  \n",
      " 0   order_id                   int32  \n",
      " 1   user_id                    int32  \n",
      " 2   order_number               int8   \n",
      " 3   orders_day_of_week         int8   \n",
      " 4   order_hour_of_day          int8   \n",
      " 5   days_since_previous_order  float16\n",
      " 6   product_id                 int32  \n",
      " 7   add_to_cart_order          int32  \n",
      " 8   reordered                  int8   \n",
      " 9   product_name               object \n",
      " 10  aisle_id                   int8   \n",
      " 11  department_id              int8   \n",
      " 12  prices                     float64\n",
      " 13  busiest_day                object \n",
      " 14  busiest_days               object \n",
      " 15  busiest_period_of_day      object \n",
      " 16  max_order                  int8   \n",
      " 17  loyalty_flag               object \n",
      " 18  mean_price                 float64\n",
      " 19  spend_flag                 object \n",
      " 20  median_days_prev_order     float16\n",
      " 21  regularity_flag            object \n",
      " 22  gender                     object \n",
      " 23  state                      object \n",
      " 24  age                        int8   \n",
      " 25  date_joined                object \n",
      " 26  num_of_dependants          int8   \n",
      " 27  marital_status             object \n",
      " 28  income                     int64  \n",
      "dtypes: float16(2), float64(2), int32(4), int64(1), int8(9), object(11)\n",
      "memory usage: 4.3+ GB\n"
     ]
    }
   ],
   "source": [
    "ord_prod_cust.info()"
   ]
  },
  {
   "cell_type": "markdown",
   "id": "0d6502a1",
   "metadata": {},
   "source": [
    "4. Adding new column Region from column state "
   ]
  },
  {
   "cell_type": "markdown",
   "id": "d7f0d748",
   "metadata": {},
   "source": [
    "    # Define Regions"
   ]
  },
  {
   "cell_type": "code",
   "execution_count": 12,
   "id": "410bed31",
   "metadata": {},
   "outputs": [],
   "source": [
    "NorthEast = ['Maine', 'New Hampshire', 'Vermont', 'Massachusetts', 'Rhode Island', 'Connecticut', 'New York', 'Pennsylvania', 'New Jersey']"
   ]
  },
  {
   "cell_type": "code",
   "execution_count": 13,
   "id": "f21f3c0d",
   "metadata": {},
   "outputs": [],
   "source": [
    "MidWest = ['Wisconsin', 'Michigan', 'Illinois', 'Indiana', 'Ohio', 'North Dakota', 'South Dakota', 'Nebraska', 'Kansas', 'Minnesota', 'Iowa', 'Missouri']"
   ]
  },
  {
   "cell_type": "code",
   "execution_count": 14,
   "id": "6e0856ac",
   "metadata": {},
   "outputs": [],
   "source": [
    "South = ['Delaware', 'Maryland', 'District of Columbia', 'Virginia', 'West Virginia', 'North Carolina', 'South Carolina', 'Georgia', 'Florida', 'Kentucky', 'Tennessee', 'Mississippi', 'Alabama', 'Oklahoma', 'Texas', 'Arkansas', 'Louisiana']"
   ]
  },
  {
   "cell_type": "code",
   "execution_count": 15,
   "id": "5568763d",
   "metadata": {},
   "outputs": [],
   "source": [
    "West = ['Idaho', 'Montana', 'Wyoming', 'Nevada', 'Utah', 'Colorado', 'Arizona', 'New Mexico', 'Alaska', 'Washington', 'Oregon', 'California', 'Hawaii']"
   ]
  },
  {
   "cell_type": "code",
   "execution_count": 17,
   "id": "22c4a8d3",
   "metadata": {},
   "outputs": [
    {
     "name": "stderr",
     "output_type": "stream",
     "text": [
      "C:\\Users\\shrut\\AppData\\Local\\Temp\\ipykernel_24300\\3794916376.py:2: FutureWarning: Setting an item of incompatible dtype is deprecated and will raise in a future error of pandas. Value 'NorthEast' has dtype incompatible with float64, please explicitly cast to a compatible dtype first.\n",
      "  ord_prod_cust.loc[ord_prod_cust['state'].isin(NorthEast), 'region'] = 'NorthEast'\n"
     ]
    }
   ],
   "source": [
    "# Add entry to new column\n",
    "ord_prod_cust.loc[ord_prod_cust['state'].isin(NorthEast), 'region'] = 'NorthEast'"
   ]
  },
  {
   "cell_type": "code",
   "execution_count": 18,
   "id": "18cb9d29",
   "metadata": {},
   "outputs": [],
   "source": [
    "ord_prod_cust.loc[ord_prod_cust['state'].isin(MidWest), 'region'] = 'MidWest'"
   ]
  },
  {
   "cell_type": "code",
   "execution_count": 19,
   "id": "8f1992f6",
   "metadata": {},
   "outputs": [],
   "source": [
    "ord_prod_cust.loc[ord_prod_cust['state'].isin(South), 'region'] = 'South'"
   ]
  },
  {
   "cell_type": "code",
   "execution_count": 20,
   "id": "19f1e6d2",
   "metadata": {},
   "outputs": [],
   "source": [
    "ord_prod_cust.loc[ord_prod_cust['state'].isin(West), 'region'] = 'West'"
   ]
  },
  {
   "cell_type": "code",
   "execution_count": 21,
   "id": "ea2532ec",
   "metadata": {},
   "outputs": [
    {
     "data": {
      "text/plain": [
       "region\n",
       "South        10801610\n",
       "West          8300445\n",
       "MidWest       7603810\n",
       "NorthEast     5728347\n",
       "Name: count, dtype: int64"
      ]
     },
     "execution_count": 21,
     "metadata": {},
     "output_type": "execute_result"
    }
   ],
   "source": [
    "ord_prod_cust['region'].value_counts(dropna=False)"
   ]
  },
  {
   "cell_type": "markdown",
   "id": "83ada42a",
   "metadata": {},
   "source": [
    "    # Total seems to be total rows count"
   ]
  },
  {
   "cell_type": "code",
   "execution_count": 22,
   "id": "ece3bb5e",
   "metadata": {},
   "outputs": [
    {
     "name": "stdout",
     "output_type": "stream",
     "text": [
      "<class 'pandas.core.frame.DataFrame'>\n",
      "RangeIndex: 32434212 entries, 0 to 32434211\n",
      "Data columns (total 30 columns):\n",
      " #   Column                     Dtype  \n",
      "---  ------                     -----  \n",
      " 0   order_id                   int32  \n",
      " 1   user_id                    int32  \n",
      " 2   order_number               int8   \n",
      " 3   orders_day_of_week         int8   \n",
      " 4   order_hour_of_day          int8   \n",
      " 5   days_since_previous_order  float16\n",
      " 6   product_id                 int32  \n",
      " 7   add_to_cart_order          int32  \n",
      " 8   reordered                  int8   \n",
      " 9   product_name               object \n",
      " 10  aisle_id                   int8   \n",
      " 11  department_id              int8   \n",
      " 12  prices                     float64\n",
      " 13  busiest_day                object \n",
      " 14  busiest_days               object \n",
      " 15  busiest_period_of_day      object \n",
      " 16  max_order                  int8   \n",
      " 17  loyalty_flag               object \n",
      " 18  mean_price                 float64\n",
      " 19  spend_flag                 object \n",
      " 20  median_days_prev_order     float16\n",
      " 21  regularity_flag            object \n",
      " 22  gender                     object \n",
      " 23  state                      object \n",
      " 24  age                        int8   \n",
      " 25  date_joined                object \n",
      " 26  num_of_dependants          int8   \n",
      " 27  marital_status             object \n",
      " 28  income                     int64  \n",
      " 29  region                     object \n",
      "dtypes: float16(2), float64(2), int32(4), int64(1), int8(9), object(12)\n",
      "memory usage: 4.5+ GB\n"
     ]
    }
   ],
   "source": [
    "ord_prod_cust.info()"
   ]
  },
  {
   "cell_type": "markdown",
   "id": "91b3c788",
   "metadata": {},
   "source": [
    "5. create crosstab between region and spend_flag"
   ]
  },
  {
   "cell_type": "code",
   "execution_count": 23,
   "id": "de614d6d",
   "metadata": {},
   "outputs": [],
   "source": [
    "crosstab = pd.crosstab(ord_prod_cust['spend_flag'], ord_prod_cust['region'], dropna = False)"
   ]
  },
  {
   "cell_type": "code",
   "execution_count": 24,
   "id": "8bbd2862",
   "metadata": {},
   "outputs": [],
   "source": [
    "crosstab.to_clipboard()"
   ]
  },
  {
   "cell_type": "code",
   "execution_count": 25,
   "id": "faa4d5b7",
   "metadata": {},
   "outputs": [
    {
     "data": {
      "text/html": [
       "<div>\n",
       "<style scoped>\n",
       "    .dataframe tbody tr th:only-of-type {\n",
       "        vertical-align: middle;\n",
       "    }\n",
       "\n",
       "    .dataframe tbody tr th {\n",
       "        vertical-align: top;\n",
       "    }\n",
       "\n",
       "    .dataframe thead th {\n",
       "        text-align: right;\n",
       "    }\n",
       "</style>\n",
       "<table border=\"1\" class=\"dataframe\">\n",
       "  <thead>\n",
       "    <tr style=\"text-align: right;\">\n",
       "      <th>region</th>\n",
       "      <th>MidWest</th>\n",
       "      <th>NorthEast</th>\n",
       "      <th>South</th>\n",
       "      <th>West</th>\n",
       "    </tr>\n",
       "    <tr>\n",
       "      <th>spend_flag</th>\n",
       "      <th></th>\n",
       "      <th></th>\n",
       "      <th></th>\n",
       "      <th></th>\n",
       "    </tr>\n",
       "  </thead>\n",
       "  <tbody>\n",
       "    <tr>\n",
       "      <th>High Spender</th>\n",
       "      <td>140326</td>\n",
       "      <td>98295</td>\n",
       "      <td>187507</td>\n",
       "      <td>142499</td>\n",
       "    </tr>\n",
       "    <tr>\n",
       "      <th>Low Spender</th>\n",
       "      <td>7463484</td>\n",
       "      <td>5630052</td>\n",
       "      <td>10614103</td>\n",
       "      <td>8157946</td>\n",
       "    </tr>\n",
       "  </tbody>\n",
       "</table>\n",
       "</div>"
      ],
      "text/plain": [
       "region        MidWest  NorthEast     South     West\n",
       "spend_flag                                         \n",
       "High Spender   140326      98295    187507   142499\n",
       "Low Spender   7463484    5630052  10614103  8157946"
      ]
     },
     "execution_count": 25,
     "metadata": {},
     "output_type": "execute_result"
    }
   ],
   "source": [
    "crosstab"
   ]
  },
  {
   "cell_type": "markdown",
   "id": "9fbc3879",
   "metadata": {},
   "source": [
    "    # The South has more number of Low Spenders, followed by west, midwest and northeast"
   ]
  },
  {
   "cell_type": "markdown",
   "id": "baa5ef62",
   "metadata": {},
   "source": [
    "6. create activity flag for customers based on maxorders < and > 5"
   ]
  },
  {
   "cell_type": "code",
   "execution_count": 26,
   "id": "776e56e5",
   "metadata": {},
   "outputs": [
    {
     "name": "stderr",
     "output_type": "stream",
     "text": [
      "C:\\Users\\shrut\\AppData\\Local\\Temp\\ipykernel_24300\\3218154257.py:1: FutureWarning: Setting an item of incompatible dtype is deprecated and will raise in a future error of pandas. Value 'low activity' has dtype incompatible with float64, please explicitly cast to a compatible dtype first.\n",
      "  ord_prod_cust.loc[ord_prod_cust['max_order'] < 5, 'activity_flag'] = 'low activity'\n"
     ]
    }
   ],
   "source": [
    "ord_prod_cust.loc[ord_prod_cust['max_order'] < 5, 'activity_flag'] = 'low activity'"
   ]
  },
  {
   "cell_type": "code",
   "execution_count": 27,
   "id": "bc5d7282",
   "metadata": {},
   "outputs": [],
   "source": [
    "ord_prod_cust.loc[ord_prod_cust['max_order'] >= 5, 'activity_flag'] = 'high activity'"
   ]
  },
  {
   "cell_type": "code",
   "execution_count": 28,
   "id": "52228c7b",
   "metadata": {},
   "outputs": [],
   "source": [
    "df_low_activity = ord_prod_cust[ord_prod_cust['activity_flag'] == 'low activity']"
   ]
  },
  {
   "cell_type": "code",
   "execution_count": 29,
   "id": "02ed93a9",
   "metadata": {},
   "outputs": [
    {
     "data": {
      "text/html": [
       "<div>\n",
       "<style scoped>\n",
       "    .dataframe tbody tr th:only-of-type {\n",
       "        vertical-align: middle;\n",
       "    }\n",
       "\n",
       "    .dataframe tbody tr th {\n",
       "        vertical-align: top;\n",
       "    }\n",
       "\n",
       "    .dataframe thead th {\n",
       "        text-align: right;\n",
       "    }\n",
       "</style>\n",
       "<table border=\"1\" class=\"dataframe\">\n",
       "  <thead>\n",
       "    <tr style=\"text-align: right;\">\n",
       "      <th></th>\n",
       "      <th>order_id</th>\n",
       "      <th>user_id</th>\n",
       "      <th>order_number</th>\n",
       "      <th>orders_day_of_week</th>\n",
       "      <th>order_hour_of_day</th>\n",
       "      <th>days_since_previous_order</th>\n",
       "      <th>product_id</th>\n",
       "      <th>add_to_cart_order</th>\n",
       "      <th>reordered</th>\n",
       "      <th>product_name</th>\n",
       "      <th>...</th>\n",
       "      <th>regularity_flag</th>\n",
       "      <th>gender</th>\n",
       "      <th>state</th>\n",
       "      <th>age</th>\n",
       "      <th>date_joined</th>\n",
       "      <th>num_of_dependants</th>\n",
       "      <th>marital_status</th>\n",
       "      <th>income</th>\n",
       "      <th>region</th>\n",
       "      <th>activity_flag</th>\n",
       "    </tr>\n",
       "  </thead>\n",
       "  <tbody>\n",
       "    <tr>\n",
       "      <th>1513</th>\n",
       "      <td>520620</td>\n",
       "      <td>120</td>\n",
       "      <td>1</td>\n",
       "      <td>3</td>\n",
       "      <td>11</td>\n",
       "      <td>NaN</td>\n",
       "      <td>196</td>\n",
       "      <td>2</td>\n",
       "      <td>0</td>\n",
       "      <td>Soda</td>\n",
       "      <td>...</td>\n",
       "      <td>Regular customer</td>\n",
       "      <td>Female</td>\n",
       "      <td>Kentucky</td>\n",
       "      <td>54</td>\n",
       "      <td>3/2/2017</td>\n",
       "      <td>2</td>\n",
       "      <td>married</td>\n",
       "      <td>99219</td>\n",
       "      <td>South</td>\n",
       "      <td>low activity</td>\n",
       "    </tr>\n",
       "    <tr>\n",
       "      <th>1514</th>\n",
       "      <td>3273029</td>\n",
       "      <td>120</td>\n",
       "      <td>3</td>\n",
       "      <td>2</td>\n",
       "      <td>8</td>\n",
       "      <td>19.0</td>\n",
       "      <td>196</td>\n",
       "      <td>2</td>\n",
       "      <td>1</td>\n",
       "      <td>Soda</td>\n",
       "      <td>...</td>\n",
       "      <td>Regular customer</td>\n",
       "      <td>Female</td>\n",
       "      <td>Kentucky</td>\n",
       "      <td>54</td>\n",
       "      <td>3/2/2017</td>\n",
       "      <td>2</td>\n",
       "      <td>married</td>\n",
       "      <td>99219</td>\n",
       "      <td>South</td>\n",
       "      <td>low activity</td>\n",
       "    </tr>\n",
       "    <tr>\n",
       "      <th>1515</th>\n",
       "      <td>520620</td>\n",
       "      <td>120</td>\n",
       "      <td>1</td>\n",
       "      <td>3</td>\n",
       "      <td>11</td>\n",
       "      <td>NaN</td>\n",
       "      <td>46149</td>\n",
       "      <td>1</td>\n",
       "      <td>0</td>\n",
       "      <td>Zero Calorie Cola</td>\n",
       "      <td>...</td>\n",
       "      <td>Regular customer</td>\n",
       "      <td>Female</td>\n",
       "      <td>Kentucky</td>\n",
       "      <td>54</td>\n",
       "      <td>3/2/2017</td>\n",
       "      <td>2</td>\n",
       "      <td>married</td>\n",
       "      <td>99219</td>\n",
       "      <td>South</td>\n",
       "      <td>low activity</td>\n",
       "    </tr>\n",
       "    <tr>\n",
       "      <th>1516</th>\n",
       "      <td>3273029</td>\n",
       "      <td>120</td>\n",
       "      <td>3</td>\n",
       "      <td>2</td>\n",
       "      <td>8</td>\n",
       "      <td>19.0</td>\n",
       "      <td>46149</td>\n",
       "      <td>1</td>\n",
       "      <td>1</td>\n",
       "      <td>Zero Calorie Cola</td>\n",
       "      <td>...</td>\n",
       "      <td>Regular customer</td>\n",
       "      <td>Female</td>\n",
       "      <td>Kentucky</td>\n",
       "      <td>54</td>\n",
       "      <td>3/2/2017</td>\n",
       "      <td>2</td>\n",
       "      <td>married</td>\n",
       "      <td>99219</td>\n",
       "      <td>South</td>\n",
       "      <td>low activity</td>\n",
       "    </tr>\n",
       "    <tr>\n",
       "      <th>1517</th>\n",
       "      <td>520620</td>\n",
       "      <td>120</td>\n",
       "      <td>1</td>\n",
       "      <td>3</td>\n",
       "      <td>11</td>\n",
       "      <td>NaN</td>\n",
       "      <td>26348</td>\n",
       "      <td>3</td>\n",
       "      <td>0</td>\n",
       "      <td>Mixed Fruit Fruit Snacks</td>\n",
       "      <td>...</td>\n",
       "      <td>Regular customer</td>\n",
       "      <td>Female</td>\n",
       "      <td>Kentucky</td>\n",
       "      <td>54</td>\n",
       "      <td>3/2/2017</td>\n",
       "      <td>2</td>\n",
       "      <td>married</td>\n",
       "      <td>99219</td>\n",
       "      <td>South</td>\n",
       "      <td>low activity</td>\n",
       "    </tr>\n",
       "  </tbody>\n",
       "</table>\n",
       "<p>5 rows × 31 columns</p>\n",
       "</div>"
      ],
      "text/plain": [
       "      order_id  user_id  order_number  orders_day_of_week  order_hour_of_day  \\\n",
       "1513    520620      120             1                   3                 11   \n",
       "1514   3273029      120             3                   2                  8   \n",
       "1515    520620      120             1                   3                 11   \n",
       "1516   3273029      120             3                   2                  8   \n",
       "1517    520620      120             1                   3                 11   \n",
       "\n",
       "      days_since_previous_order  product_id  add_to_cart_order  reordered  \\\n",
       "1513                        NaN         196                  2          0   \n",
       "1514                       19.0         196                  2          1   \n",
       "1515                        NaN       46149                  1          0   \n",
       "1516                       19.0       46149                  1          1   \n",
       "1517                        NaN       26348                  3          0   \n",
       "\n",
       "                  product_name  ...   regularity_flag  gender     state age  \\\n",
       "1513                      Soda  ...  Regular customer  Female  Kentucky  54   \n",
       "1514                      Soda  ...  Regular customer  Female  Kentucky  54   \n",
       "1515         Zero Calorie Cola  ...  Regular customer  Female  Kentucky  54   \n",
       "1516         Zero Calorie Cola  ...  Regular customer  Female  Kentucky  54   \n",
       "1517  Mixed Fruit Fruit Snacks  ...  Regular customer  Female  Kentucky  54   \n",
       "\n",
       "     date_joined num_of_dependants  marital_status income  region  \\\n",
       "1513    3/2/2017                 2         married  99219   South   \n",
       "1514    3/2/2017                 2         married  99219   South   \n",
       "1515    3/2/2017                 2         married  99219   South   \n",
       "1516    3/2/2017                 2         married  99219   South   \n",
       "1517    3/2/2017                 2         married  99219   South   \n",
       "\n",
       "     activity_flag  \n",
       "1513  low activity  \n",
       "1514  low activity  \n",
       "1515  low activity  \n",
       "1516  low activity  \n",
       "1517  low activity  \n",
       "\n",
       "[5 rows x 31 columns]"
      ]
     },
     "execution_count": 29,
     "metadata": {},
     "output_type": "execute_result"
    }
   ],
   "source": [
    "df_low_activity.head()"
   ]
  },
  {
   "cell_type": "code",
   "execution_count": 30,
   "id": "011eaf26",
   "metadata": {},
   "outputs": [],
   "source": [
    "df_high_activity = ord_prod_cust[ord_prod_cust['activity_flag'] == 'high activity']"
   ]
  },
  {
   "cell_type": "markdown",
   "id": "74e895a4",
   "metadata": {},
   "source": [
    "7. Exporting Data"
   ]
  },
  {
   "cell_type": "code",
   "execution_count": 33,
   "id": "6da4483b",
   "metadata": {},
   "outputs": [],
   "source": [
    "# Saving the low activity customers as a pickle. \n",
    "df_low_activity.to_pickle(os.path.join(path, '02 Data','Prepared Data', 'df_low_activity_cutomers.pkl'))"
   ]
  },
  {
   "cell_type": "code",
   "execution_count": 34,
   "id": "cdd45176",
   "metadata": {},
   "outputs": [],
   "source": [
    "# Saving the low activity customers as a pickle. \n",
    "df_high_activity.to_pickle(os.path.join(path, '02 Data','Prepared Data', 'df_high_activity_cutomers.pkl'))"
   ]
  }
 ],
 "metadata": {
  "kernelspec": {
   "display_name": "Python 3 (ipykernel)",
   "language": "python",
   "name": "python3"
  },
  "language_info": {
   "codemirror_mode": {
    "name": "ipython",
    "version": 3
   },
   "file_extension": ".py",
   "mimetype": "text/x-python",
   "name": "python",
   "nbconvert_exporter": "python",
   "pygments_lexer": "ipython3",
   "version": "3.11.5"
  }
 },
 "nbformat": 4,
 "nbformat_minor": 5
}
